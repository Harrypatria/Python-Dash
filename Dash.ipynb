{
 "cells": [
  {
   "cell_type": "markdown",
   "id": "15132724",
   "metadata": {},
   "source": [
    "# Interactive Dashboard in Python\n",
    "developed by Patria & Co."
   ]
  },
  {
   "cell_type": "code",
   "execution_count": 1,
   "id": "268ea287",
   "metadata": {},
   "outputs": [
    {
     "name": "stderr",
     "output_type": "stream",
     "text": [
      "'C:\\Users\\Harry' is not recognized as an internal or external command,\n",
      "operable program or batch file.\n"
     ]
    }
   ],
   "source": [
    "# install library\n",
    "import sys\n",
    "!{sys.executable} -m pip install jupyter-dash"
   ]
  },
  {
   "cell_type": "code",
   "execution_count": 2,
   "id": "8dba4d0b",
   "metadata": {},
   "outputs": [
    {
     "name": "stderr",
     "output_type": "stream",
     "text": [
      "<ipython-input-2-ec0c20682e87>:2: UserWarning: \n",
      "The dash_core_components package is deprecated. Please replace\n",
      "`import dash_core_components as dcc` with `from dash import dcc`\n",
      "  import dash_core_components as dcc\n",
      "<ipython-input-2-ec0c20682e87>:3: UserWarning: \n",
      "The dash_html_components package is deprecated. Please replace\n",
      "`import dash_html_components as html` with `from dash import html`\n",
      "  import dash_html_components as html\n"
     ]
    }
   ],
   "source": [
    "import dash\n",
    "import dash_core_components as dcc\n",
    "import dash_html_components as html\n",
    "import plotly.express as px\n",
    "import pandas as pd"
   ]
  },
  {
   "cell_type": "code",
   "execution_count": null,
   "id": "cd8678d0",
   "metadata": {},
   "outputs": [
    {
     "name": "stdout",
     "output_type": "stream",
     "text": [
      "Dash is running on http://127.0.0.1:8050/\n",
      "\n",
      " * Serving Flask app \"__main__\" (lazy loading)\n",
      " * Environment: production\n",
      "   WARNING: This is a development server. Do not use it in a production deployment.\n",
      "   Use a production WSGI server instead.\n",
      " * Debug mode: on\n"
     ]
    }
   ],
   "source": [
    "# create app\n",
    "app = dash.Dash()\n",
    "\n",
    "# Load the dataset\n",
    "df = pd.read_csv(\n",
    "    \"https://raw.githubusercontent.com/ThuwarakeshM/geting-started-with-plottly-dash/main/life_expectancy.csv\"\n",
    ")\n",
    "\n",
    "fig = px.scatter(\n",
    "    df,\n",
    "    x=\"GDP\",\n",
    "    y=\"Life expectancy\",\n",
    "    size=\"Population\",\n",
    "    color=\"continent\",\n",
    "    hover_name=\"Country\",\n",
    "    log_x=True,\n",
    "    size_max=60,\n",
    ")\n",
    "\n",
    "app.layout = html.Div([dcc.Graph(id=\"life-exp-vs-gdp\", figure=fig)])\n",
    "\n",
    "# set app layout\n",
    "app.layout = html.Div([\n",
    "    dcc.Graph(figure=fig)\n",
    "])\n",
    "\n",
    "# run app\n",
    "app.run_server(debug=True, use_reloader=False)"
   ]
  },
  {
   "cell_type": "markdown",
   "id": "6a3b121a",
   "metadata": {},
   "source": [
    "Adding more widgets to the layout"
   ]
  },
  {
   "cell_type": "code",
   "execution_count": null,
   "id": "e4399c18",
   "metadata": {},
   "outputs": [],
   "source": [
    "app.layout = html.Div(\n",
    "    [   \n",
    "        # Dropdown to filter developing/developed country.\n",
    "        html.Div(\n",
    "            [\n",
    "                dcc.Dropdown(\n",
    "                    id=\"status-dropdown\",\n",
    "                    options=[{\"label\": s, \"value\": s} for s in df.Status.unique()], # Create available options from the dataset\n",
    "                ),\n",
    "            ]\n",
    "        ),\n",
    "        # Dropdown to filter countries with average schooling years.\n",
    "        html.Div(\n",
    "            [\n",
    "                dcc.Dropdown(\n",
    "                    id=\"schooling-dropdown\",\n",
    "                    options=[\n",
    "                        {\"label\": y, \"value\": y}\n",
    "                        for y in range(\n",
    "                            int(df.Schooling.min()), int(df.Schooling.max()) + 1\n",
    "                        )\n",
    "                    ], # add options from the dataset.\n",
    "                ),\n",
    "            ]\n",
    "        ),\n",
    "        # Placeholder to render teh chart.\n",
    "        html.Div(dcc.Graph(id=\"life-exp-vs-gdp\"), className=\"chart\"),\n",
    "\n",
    "        # Slider to select year.\n",
    "        dcc.Slider(\n",
    "            \"year-slider\",\n",
    "            min=df.Year.min(), # dynamically select minimum and maximum years from the dataset.\n",
    "            max=df.Year.max(),\n",
    "            step=None,\n",
    "            marks={year: str(year) for year in range(df.Year.min(), df.Year.max() + 1)}, # set markers at one year interval.\n",
    "            value=df.Year.min(),\n",
    "        ),\n",
    "    ],\n",
    ")"
   ]
  },
  {
   "cell_type": "markdown",
   "id": "37837501",
   "metadata": {},
   "source": [
    "Adding interactivity with component callbacks"
   ]
  },
  {
   "cell_type": "code",
   "execution_count": null,
   "id": "3893c821",
   "metadata": {},
   "outputs": [],
   "source": [
    "@app.callback(\n",
    "    Output(\"life-exp-vs-gdp\", \"figure\"),\n",
    "    Input(\"year-slider\", \"value\"),\n",
    "    Input(\"status-dropdown\", \"value\"),\n",
    "    Input(\"schooling-dropdown\", \"value\"),\n",
    ")\n",
    "def update_figure(selected_year, country_status, schooling):\n",
    "    filtered_dataset = df[(df.Year == selected_year)]\n",
    "\n",
    "    if schooling:\n",
    "        filtered_dataset = filtered_dataset[filtered_dataset.Schooling <= schooling]\n",
    "\n",
    "    if country_status:\n",
    "        filtered_dataset = filtered_dataset[filtered_dataset.Status == country_status]\n",
    "\n",
    "    fig = px.scatter(\n",
    "        filtered_dataset,\n",
    "        x=\"GDP\",\n",
    "        y=\"Life expectancy\",\n",
    "        size=\"Population\",\n",
    "        color=\"continent\",\n",
    "        hover_name=\"Country\",\n",
    "        log_x=True,\n",
    "        size_max=60,\n",
    "    )\n",
    "\n",
    "    return fig"
   ]
  },
  {
   "cell_type": "markdown",
   "id": "d311684a",
   "metadata": {},
   "source": [
    "Let's create an app using our tile-based choropleth map."
   ]
  },
  {
   "cell_type": "code",
   "execution_count": null,
   "id": "3bb8ecba",
   "metadata": {},
   "outputs": [],
   "source": [
    "# import urllib\n",
    "from urllib.request import urlopen\n",
    "\n",
    "# import json\n",
    "import json\n",
    "\n",
    "# load geojson data\n",
    "with urlopen('https://raw.githubusercontent.com/plotly/datasets/master/geojson-counties-fips.json') as response:\n",
    "    counties = json.load(response)\n",
    "\n",
    "# import pandas\n",
    "import pandas as pd\n",
    "\n",
    "# load attribute data as dataframe\n",
    "df = pd.read_csv(\"https://raw.githubusercontent.com/plotly/datasets/master/fips-unemp-16.csv\",\n",
    "                   dtype={\"fips\": str})\n",
    "\n",
    "# import plotly\n",
    "import plotly.express as px\n",
    "\n",
    "# create figure\n",
    "fig = px.choropleth_mapbox(df, geojson=counties, locations='fips', color='unemp',\n",
    "                           color_continuous_scale=\"Viridis\",\n",
    "                           range_color=(0, 12),\n",
    "                           mapbox_style=\"carto-positron\",\n",
    "                           zoom=3, center = {\"lat\": 37.0902, \"lon\": -95.7129},\n",
    "                           opacity=0.5,\n",
    "                           labels={'unemp':'unemployment rate'}\n",
    "                          )\n",
    "\n",
    "# update figure layout\n",
    "fig.update_layout(margin={\"r\":0,\"t\":0,\"l\":0,\"b\":0})\n",
    "\n",
    "# show figure\n",
    "fig.show()\n",
    "\n",
    "# import dash components\n",
    "import dash\n",
    "import dash_core_components as dcc\n",
    "import dash_html_components as html\n",
    "\n",
    "# create app\n",
    "app = dash.Dash()\n",
    "\n",
    "# set app layout\n",
    "app.layout = html.Div([\n",
    "    dcc.Graph(figure=fig)\n",
    "])\n",
    "\n",
    "# run app\n",
    "app.run_server(debug=True, use_reloader=False)"
   ]
  },
  {
   "cell_type": "markdown",
   "id": "0c107c4b",
   "metadata": {},
   "source": [
    "Customizing dash Layout with dash_html_components\n",
    "  - This example makes very few modifications to app.layout.\n",
    "\n",
    "  - We can start to customize a dash app by using an external style sheet.\n",
    "\n",
    "  - Similar to how we use CSS in combination with HTML, external style sheets can also be loaded and applied in dash."
   ]
  },
  {
   "cell_type": "code",
   "execution_count": null,
   "id": "ab4043b5",
   "metadata": {},
   "outputs": [],
   "source": [
    "# load style sheet; this example uses URL; could also use local .css file\n",
    "external_stylesheets = ['https://codepen.io/chriddyp/pen/bWLwgP.css']\n",
    "\n",
    "# call style sheet when starting app\n",
    "app = dash.Dash(APP_NAME, external_stylesheets=external_stylesheets)"
   ]
  }
 ],
 "metadata": {
  "kernelspec": {
   "display_name": "Python 3",
   "language": "python",
   "name": "python3"
  },
  "language_info": {
   "codemirror_mode": {
    "name": "ipython",
    "version": 3
   },
   "file_extension": ".py",
   "mimetype": "text/x-python",
   "name": "python",
   "nbconvert_exporter": "python",
   "pygments_lexer": "ipython3",
   "version": "3.8.8"
  },
  "varInspector": {
   "cols": {
    "lenName": 16,
    "lenType": 16,
    "lenVar": 40
   },
   "kernels_config": {
    "python": {
     "delete_cmd_postfix": "",
     "delete_cmd_prefix": "del ",
     "library": "var_list.py",
     "varRefreshCmd": "print(var_dic_list())"
    },
    "r": {
     "delete_cmd_postfix": ") ",
     "delete_cmd_prefix": "rm(",
     "library": "var_list.r",
     "varRefreshCmd": "cat(var_dic_list()) "
    }
   },
   "types_to_exclude": [
    "module",
    "function",
    "builtin_function_or_method",
    "instance",
    "_Feature"
   ],
   "window_display": false
  }
 },
 "nbformat": 4,
 "nbformat_minor": 5
}
